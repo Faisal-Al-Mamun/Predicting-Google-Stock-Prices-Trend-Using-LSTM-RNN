{
  "nbformat": 4,
  "nbformat_minor": 0,
  "metadata": {
    "colab": {
      "name": "Predicting Google Stock Prices Trend Using LSTM | RNN.ipynb",
      "provenance": [],
      "mount_file_id": "1o7Ngi2pI32W1ebbuS2apWQAukB6DZ2KW",
      "authorship_tag": "ABX9TyOdX0eA9PRg9j0n0STHnAvY",
      "include_colab_link": true
    },
    "kernelspec": {
      "name": "python3",
      "display_name": "Python 3"
    },
    "language_info": {
      "name": "python"
    }
  },
  "cells": [
    {
      "cell_type": "markdown",
      "metadata": {
        "id": "view-in-github",
        "colab_type": "text"
      },
      "source": [
        "<a href=\"https://colab.research.google.com/github/Faisal-Al-Mamun/Predicting-Google-Stock-Prices-Trend-Using-LSTM-RNN/blob/main/Predicting_Google_Stock_Prices_Trend_Using_LSTM_%7C_RNN.ipynb\" target=\"_parent\"><img src=\"https://colab.research.google.com/assets/colab-badge.svg\" alt=\"Open In Colab\"/></a>"
      ]
    },
    {
      "cell_type": "markdown",
      "source": [
        "### Importing libraries"
      ],
      "metadata": {
        "id": "WI419U7gKYcC"
      }
    },
    {
      "cell_type": "code",
      "source": [
        "import numpy as np\n",
        "import matplotlib.pyplot as plt\n",
        "import pandas as pd"
      ],
      "metadata": {
        "id": "01qzFpLmKbxA"
      },
      "execution_count": 2,
      "outputs": []
    },
    {
      "cell_type": "markdown",
      "source": [
        "### Importing the training set"
      ],
      "metadata": {
        "id": "iZLXUWgaKv-j"
      }
    },
    {
      "cell_type": "markdown",
      "source": [
        "Dataset downloaded from Kaggle: https://www.kaggle.com/medharawat/google-stock-price\n",
        "\n",
        "* Training dataset contains google stock price from January 2012 to December 2016\n",
        "\n",
        "* Test dataset contains google stock price for January 2017"
      ],
      "metadata": {
        "id": "Xk3og_GXMCdd"
      }
    },
    {
      "cell_type": "code",
      "source": [
        "dataset_train= pd.read_csv('/content/drive/MyDrive/Colab Notebooks/Dataset/Google_Stock_Price_Train.csv')\n",
        "training_set = dataset_train.iloc[:,1:2].values"
      ],
      "metadata": {
        "id": "9The4ldgKsw3"
      },
      "execution_count": 3,
      "outputs": []
    },
    {
      "cell_type": "code",
      "source": [
        "dataset_train.head()"
      ],
      "metadata": {
        "colab": {
          "base_uri": "https://localhost:8080/",
          "height": 206
        },
        "id": "bZFTbHUDLrvc",
        "outputId": "52c79794-41d0-4821-9371-e66fc63077e5"
      },
      "execution_count": 5,
      "outputs": [
        {
          "output_type": "execute_result",
          "data": {
            "text/html": [
              "\n",
              "  <div id=\"df-606def89-8bf3-4640-86ce-2be6ac5abbb6\">\n",
              "    <div class=\"colab-df-container\">\n",
              "      <div>\n",
              "<style scoped>\n",
              "    .dataframe tbody tr th:only-of-type {\n",
              "        vertical-align: middle;\n",
              "    }\n",
              "\n",
              "    .dataframe tbody tr th {\n",
              "        vertical-align: top;\n",
              "    }\n",
              "\n",
              "    .dataframe thead th {\n",
              "        text-align: right;\n",
              "    }\n",
              "</style>\n",
              "<table border=\"1\" class=\"dataframe\">\n",
              "  <thead>\n",
              "    <tr style=\"text-align: right;\">\n",
              "      <th></th>\n",
              "      <th>Date</th>\n",
              "      <th>Open</th>\n",
              "      <th>High</th>\n",
              "      <th>Low</th>\n",
              "      <th>Close</th>\n",
              "      <th>Volume</th>\n",
              "    </tr>\n",
              "  </thead>\n",
              "  <tbody>\n",
              "    <tr>\n",
              "      <th>0</th>\n",
              "      <td>1/3/2012</td>\n",
              "      <td>325.25</td>\n",
              "      <td>332.83</td>\n",
              "      <td>324.97</td>\n",
              "      <td>663.59</td>\n",
              "      <td>7,380,500</td>\n",
              "    </tr>\n",
              "    <tr>\n",
              "      <th>1</th>\n",
              "      <td>1/4/2012</td>\n",
              "      <td>331.27</td>\n",
              "      <td>333.87</td>\n",
              "      <td>329.08</td>\n",
              "      <td>666.45</td>\n",
              "      <td>5,749,400</td>\n",
              "    </tr>\n",
              "    <tr>\n",
              "      <th>2</th>\n",
              "      <td>1/5/2012</td>\n",
              "      <td>329.83</td>\n",
              "      <td>330.75</td>\n",
              "      <td>326.89</td>\n",
              "      <td>657.21</td>\n",
              "      <td>6,590,300</td>\n",
              "    </tr>\n",
              "    <tr>\n",
              "      <th>3</th>\n",
              "      <td>1/6/2012</td>\n",
              "      <td>328.34</td>\n",
              "      <td>328.77</td>\n",
              "      <td>323.68</td>\n",
              "      <td>648.24</td>\n",
              "      <td>5,405,900</td>\n",
              "    </tr>\n",
              "    <tr>\n",
              "      <th>4</th>\n",
              "      <td>1/9/2012</td>\n",
              "      <td>322.04</td>\n",
              "      <td>322.29</td>\n",
              "      <td>309.46</td>\n",
              "      <td>620.76</td>\n",
              "      <td>11,688,800</td>\n",
              "    </tr>\n",
              "  </tbody>\n",
              "</table>\n",
              "</div>\n",
              "      <button class=\"colab-df-convert\" onclick=\"convertToInteractive('df-606def89-8bf3-4640-86ce-2be6ac5abbb6')\"\n",
              "              title=\"Convert this dataframe to an interactive table.\"\n",
              "              style=\"display:none;\">\n",
              "        \n",
              "  <svg xmlns=\"http://www.w3.org/2000/svg\" height=\"24px\"viewBox=\"0 0 24 24\"\n",
              "       width=\"24px\">\n",
              "    <path d=\"M0 0h24v24H0V0z\" fill=\"none\"/>\n",
              "    <path d=\"M18.56 5.44l.94 2.06.94-2.06 2.06-.94-2.06-.94-.94-2.06-.94 2.06-2.06.94zm-11 1L8.5 8.5l.94-2.06 2.06-.94-2.06-.94L8.5 2.5l-.94 2.06-2.06.94zm10 10l.94 2.06.94-2.06 2.06-.94-2.06-.94-.94-2.06-.94 2.06-2.06.94z\"/><path d=\"M17.41 7.96l-1.37-1.37c-.4-.4-.92-.59-1.43-.59-.52 0-1.04.2-1.43.59L10.3 9.45l-7.72 7.72c-.78.78-.78 2.05 0 2.83L4 21.41c.39.39.9.59 1.41.59.51 0 1.02-.2 1.41-.59l7.78-7.78 2.81-2.81c.8-.78.8-2.07 0-2.86zM5.41 20L4 18.59l7.72-7.72 1.47 1.35L5.41 20z\"/>\n",
              "  </svg>\n",
              "      </button>\n",
              "      \n",
              "  <style>\n",
              "    .colab-df-container {\n",
              "      display:flex;\n",
              "      flex-wrap:wrap;\n",
              "      gap: 12px;\n",
              "    }\n",
              "\n",
              "    .colab-df-convert {\n",
              "      background-color: #E8F0FE;\n",
              "      border: none;\n",
              "      border-radius: 50%;\n",
              "      cursor: pointer;\n",
              "      display: none;\n",
              "      fill: #1967D2;\n",
              "      height: 32px;\n",
              "      padding: 0 0 0 0;\n",
              "      width: 32px;\n",
              "    }\n",
              "\n",
              "    .colab-df-convert:hover {\n",
              "      background-color: #E2EBFA;\n",
              "      box-shadow: 0px 1px 2px rgba(60, 64, 67, 0.3), 0px 1px 3px 1px rgba(60, 64, 67, 0.15);\n",
              "      fill: #174EA6;\n",
              "    }\n",
              "\n",
              "    [theme=dark] .colab-df-convert {\n",
              "      background-color: #3B4455;\n",
              "      fill: #D2E3FC;\n",
              "    }\n",
              "\n",
              "    [theme=dark] .colab-df-convert:hover {\n",
              "      background-color: #434B5C;\n",
              "      box-shadow: 0px 1px 3px 1px rgba(0, 0, 0, 0.15);\n",
              "      filter: drop-shadow(0px 1px 2px rgba(0, 0, 0, 0.3));\n",
              "      fill: #FFFFFF;\n",
              "    }\n",
              "  </style>\n",
              "\n",
              "      <script>\n",
              "        const buttonEl =\n",
              "          document.querySelector('#df-606def89-8bf3-4640-86ce-2be6ac5abbb6 button.colab-df-convert');\n",
              "        buttonEl.style.display =\n",
              "          google.colab.kernel.accessAllowed ? 'block' : 'none';\n",
              "\n",
              "        async function convertToInteractive(key) {\n",
              "          const element = document.querySelector('#df-606def89-8bf3-4640-86ce-2be6ac5abbb6');\n",
              "          const dataTable =\n",
              "            await google.colab.kernel.invokeFunction('convertToInteractive',\n",
              "                                                     [key], {});\n",
              "          if (!dataTable) return;\n",
              "\n",
              "          const docLinkHtml = 'Like what you see? Visit the ' +\n",
              "            '<a target=\"_blank\" href=https://colab.research.google.com/notebooks/data_table.ipynb>data table notebook</a>'\n",
              "            + ' to learn more about interactive tables.';\n",
              "          element.innerHTML = '';\n",
              "          dataTable['output_type'] = 'display_data';\n",
              "          await google.colab.output.renderOutput(dataTable, element);\n",
              "          const docLink = document.createElement('div');\n",
              "          docLink.innerHTML = docLinkHtml;\n",
              "          element.appendChild(docLink);\n",
              "        }\n",
              "      </script>\n",
              "    </div>\n",
              "  </div>\n",
              "  "
            ],
            "text/plain": [
              "       Date    Open    High     Low   Close      Volume\n",
              "0  1/3/2012  325.25  332.83  324.97  663.59   7,380,500\n",
              "1  1/4/2012  331.27  333.87  329.08  666.45   5,749,400\n",
              "2  1/5/2012  329.83  330.75  326.89  657.21   6,590,300\n",
              "3  1/6/2012  328.34  328.77  323.68  648.24   5,405,900\n",
              "4  1/9/2012  322.04  322.29  309.46  620.76  11,688,800"
            ]
          },
          "metadata": {},
          "execution_count": 5
        }
      ]
    },
    {
      "cell_type": "code",
      "source": [
        "dataset_train.tail()"
      ],
      "metadata": {
        "colab": {
          "base_uri": "https://localhost:8080/",
          "height": 206
        },
        "id": "Hc4ZYQ0RL3iU",
        "outputId": "79b1b486-889a-4e3a-875b-35382db76e5b"
      },
      "execution_count": 6,
      "outputs": [
        {
          "output_type": "execute_result",
          "data": {
            "text/html": [
              "\n",
              "  <div id=\"df-b9372e27-619b-436b-809b-9df26a1ca835\">\n",
              "    <div class=\"colab-df-container\">\n",
              "      <div>\n",
              "<style scoped>\n",
              "    .dataframe tbody tr th:only-of-type {\n",
              "        vertical-align: middle;\n",
              "    }\n",
              "\n",
              "    .dataframe tbody tr th {\n",
              "        vertical-align: top;\n",
              "    }\n",
              "\n",
              "    .dataframe thead th {\n",
              "        text-align: right;\n",
              "    }\n",
              "</style>\n",
              "<table border=\"1\" class=\"dataframe\">\n",
              "  <thead>\n",
              "    <tr style=\"text-align: right;\">\n",
              "      <th></th>\n",
              "      <th>Date</th>\n",
              "      <th>Open</th>\n",
              "      <th>High</th>\n",
              "      <th>Low</th>\n",
              "      <th>Close</th>\n",
              "      <th>Volume</th>\n",
              "    </tr>\n",
              "  </thead>\n",
              "  <tbody>\n",
              "    <tr>\n",
              "      <th>1253</th>\n",
              "      <td>12/23/2016</td>\n",
              "      <td>790.90</td>\n",
              "      <td>792.74</td>\n",
              "      <td>787.28</td>\n",
              "      <td>789.91</td>\n",
              "      <td>623,400</td>\n",
              "    </tr>\n",
              "    <tr>\n",
              "      <th>1254</th>\n",
              "      <td>12/27/2016</td>\n",
              "      <td>790.68</td>\n",
              "      <td>797.86</td>\n",
              "      <td>787.66</td>\n",
              "      <td>791.55</td>\n",
              "      <td>789,100</td>\n",
              "    </tr>\n",
              "    <tr>\n",
              "      <th>1255</th>\n",
              "      <td>12/28/2016</td>\n",
              "      <td>793.70</td>\n",
              "      <td>794.23</td>\n",
              "      <td>783.20</td>\n",
              "      <td>785.05</td>\n",
              "      <td>1,153,800</td>\n",
              "    </tr>\n",
              "    <tr>\n",
              "      <th>1256</th>\n",
              "      <td>12/29/2016</td>\n",
              "      <td>783.33</td>\n",
              "      <td>785.93</td>\n",
              "      <td>778.92</td>\n",
              "      <td>782.79</td>\n",
              "      <td>744,300</td>\n",
              "    </tr>\n",
              "    <tr>\n",
              "      <th>1257</th>\n",
              "      <td>12/30/2016</td>\n",
              "      <td>782.75</td>\n",
              "      <td>782.78</td>\n",
              "      <td>770.41</td>\n",
              "      <td>771.82</td>\n",
              "      <td>1,770,000</td>\n",
              "    </tr>\n",
              "  </tbody>\n",
              "</table>\n",
              "</div>\n",
              "      <button class=\"colab-df-convert\" onclick=\"convertToInteractive('df-b9372e27-619b-436b-809b-9df26a1ca835')\"\n",
              "              title=\"Convert this dataframe to an interactive table.\"\n",
              "              style=\"display:none;\">\n",
              "        \n",
              "  <svg xmlns=\"http://www.w3.org/2000/svg\" height=\"24px\"viewBox=\"0 0 24 24\"\n",
              "       width=\"24px\">\n",
              "    <path d=\"M0 0h24v24H0V0z\" fill=\"none\"/>\n",
              "    <path d=\"M18.56 5.44l.94 2.06.94-2.06 2.06-.94-2.06-.94-.94-2.06-.94 2.06-2.06.94zm-11 1L8.5 8.5l.94-2.06 2.06-.94-2.06-.94L8.5 2.5l-.94 2.06-2.06.94zm10 10l.94 2.06.94-2.06 2.06-.94-2.06-.94-.94-2.06-.94 2.06-2.06.94z\"/><path d=\"M17.41 7.96l-1.37-1.37c-.4-.4-.92-.59-1.43-.59-.52 0-1.04.2-1.43.59L10.3 9.45l-7.72 7.72c-.78.78-.78 2.05 0 2.83L4 21.41c.39.39.9.59 1.41.59.51 0 1.02-.2 1.41-.59l7.78-7.78 2.81-2.81c.8-.78.8-2.07 0-2.86zM5.41 20L4 18.59l7.72-7.72 1.47 1.35L5.41 20z\"/>\n",
              "  </svg>\n",
              "      </button>\n",
              "      \n",
              "  <style>\n",
              "    .colab-df-container {\n",
              "      display:flex;\n",
              "      flex-wrap:wrap;\n",
              "      gap: 12px;\n",
              "    }\n",
              "\n",
              "    .colab-df-convert {\n",
              "      background-color: #E8F0FE;\n",
              "      border: none;\n",
              "      border-radius: 50%;\n",
              "      cursor: pointer;\n",
              "      display: none;\n",
              "      fill: #1967D2;\n",
              "      height: 32px;\n",
              "      padding: 0 0 0 0;\n",
              "      width: 32px;\n",
              "    }\n",
              "\n",
              "    .colab-df-convert:hover {\n",
              "      background-color: #E2EBFA;\n",
              "      box-shadow: 0px 1px 2px rgba(60, 64, 67, 0.3), 0px 1px 3px 1px rgba(60, 64, 67, 0.15);\n",
              "      fill: #174EA6;\n",
              "    }\n",
              "\n",
              "    [theme=dark] .colab-df-convert {\n",
              "      background-color: #3B4455;\n",
              "      fill: #D2E3FC;\n",
              "    }\n",
              "\n",
              "    [theme=dark] .colab-df-convert:hover {\n",
              "      background-color: #434B5C;\n",
              "      box-shadow: 0px 1px 3px 1px rgba(0, 0, 0, 0.15);\n",
              "      filter: drop-shadow(0px 1px 2px rgba(0, 0, 0, 0.3));\n",
              "      fill: #FFFFFF;\n",
              "    }\n",
              "  </style>\n",
              "\n",
              "      <script>\n",
              "        const buttonEl =\n",
              "          document.querySelector('#df-b9372e27-619b-436b-809b-9df26a1ca835 button.colab-df-convert');\n",
              "        buttonEl.style.display =\n",
              "          google.colab.kernel.accessAllowed ? 'block' : 'none';\n",
              "\n",
              "        async function convertToInteractive(key) {\n",
              "          const element = document.querySelector('#df-b9372e27-619b-436b-809b-9df26a1ca835');\n",
              "          const dataTable =\n",
              "            await google.colab.kernel.invokeFunction('convertToInteractive',\n",
              "                                                     [key], {});\n",
              "          if (!dataTable) return;\n",
              "\n",
              "          const docLinkHtml = 'Like what you see? Visit the ' +\n",
              "            '<a target=\"_blank\" href=https://colab.research.google.com/notebooks/data_table.ipynb>data table notebook</a>'\n",
              "            + ' to learn more about interactive tables.';\n",
              "          element.innerHTML = '';\n",
              "          dataTable['output_type'] = 'display_data';\n",
              "          await google.colab.output.renderOutput(dataTable, element);\n",
              "          const docLink = document.createElement('div');\n",
              "          docLink.innerHTML = docLinkHtml;\n",
              "          element.appendChild(docLink);\n",
              "        }\n",
              "      </script>\n",
              "    </div>\n",
              "  </div>\n",
              "  "
            ],
            "text/plain": [
              "            Date    Open    High     Low   Close     Volume\n",
              "1253  12/23/2016  790.90  792.74  787.28  789.91    623,400\n",
              "1254  12/27/2016  790.68  797.86  787.66  791.55    789,100\n",
              "1255  12/28/2016  793.70  794.23  783.20  785.05  1,153,800\n",
              "1256  12/29/2016  783.33  785.93  778.92  782.79    744,300\n",
              "1257  12/30/2016  782.75  782.78  770.41  771.82  1,770,000"
            ]
          },
          "metadata": {},
          "execution_count": 6
        }
      ]
    },
    {
      "cell_type": "code",
      "source": [
        "dataset_train.shape"
      ],
      "metadata": {
        "colab": {
          "base_uri": "https://localhost:8080/"
        },
        "id": "y-9jKS38NHZm",
        "outputId": "35236981-0bb4-4683-9538-25aaf5d9a043"
      },
      "execution_count": 7,
      "outputs": [
        {
          "output_type": "execute_result",
          "data": {
            "text/plain": [
              "(1258, 6)"
            ]
          },
          "metadata": {},
          "execution_count": 7
        }
      ]
    },
    {
      "cell_type": "code",
      "source": [
        "dataset = pd.read_csv('/content/drive/MyDrive/Colab Notebooks/Dataset/Google_Stock_Price_Train.csv',index_col=\"Date\",parse_dates=True)\n",
        "\n",
        "dataset['Open'].plot(figsize=(16,6))"
      ],
      "metadata": {
        "colab": {
          "base_uri": "https://localhost:8080/",
          "height": 384
        },
        "id": "B8CXL-mIV79M",
        "outputId": "bd2d85ab-a934-4631-a394-fbc2c4c9eb36"
      },
      "execution_count": 25,
      "outputs": [
        {
          "output_type": "execute_result",
          "data": {
            "text/plain": [
              "<matplotlib.axes._subplots.AxesSubplot at 0x7ff11b20ed10>"
            ]
          },
          "metadata": {},
          "execution_count": 25
        },
        {
          "output_type": "display_data",
          "data": {
            "image/png": "[encoded data removed]",
            "text/plain": [
              "<Figure size 1152x432 with 1 Axes>"
            ]
          },
          "metadata": {
            "needs_background": "light"
          }
        }
      ]
    },
    {
      "cell_type": "markdown",
      "source": [
        "### Feature Scaling "
      ],
      "metadata": {
        "id": "7Y2owdbyNaFJ"
      }
    },
    {
      "cell_type": "code",
      "source": [
        "from sklearn.preprocessing import MinMaxScaler\n",
        "sc = MinMaxScaler(feature_range=(0,1))\n",
        "training_set_scaled = sc.fit_transform(training_set)"
      ],
      "metadata": {
        "id": "CTB0skKSNbXY"
      },
      "execution_count": 8,
      "outputs": []
    },
    {
      "cell_type": "markdown",
      "source": [
        "## Creating a data structure with 60 timesteps and 1 output"
      ],
      "metadata": {
        "id": "6Xo9YsBaONWM"
      }
    },
    {
      "cell_type": "markdown",
      "source": [
        "Timesteps = 60\n",
        "\n",
        "60 time steps means that at each time 't' the RNN is going to look at the 60 stock prices.\n",
        "\n",
        "Before time 't' that is the stock price is between 60 days before time 't' .\n",
        "\n",
        "And based on the trends it is capturing during the 60 time steps will try to predict the next output. \n",
        "\n",
        "So 60 time steps are the past information from which our RNN is going to try to learn and understand some correlations or some trends.\n",
        "\n",
        "\n",
        "\n"
      ],
      "metadata": {
        "id": "FIr8sFbFN0Xp"
      }
    },
    {
      "cell_type": "code",
      "source": [
        "X_train = []\n",
        "y_train = []\n",
        "\n",
        "for i in range(60, 1258):\n",
        "    X_train.append(training_set_scaled[i-60:i,0])\n",
        "    y_train.append(training_set_scaled[i,0])\n",
        "    \n",
        "X_train, y_train = np.array(X_train), np.array(y_train)"
      ],
      "metadata": {
        "id": "9_0FB5GcOfnW"
      },
      "execution_count": 9,
      "outputs": []
    },
    {
      "cell_type": "code",
      "source": [
        "#Reshaping\n",
        "\n",
        "X_train = np.reshape(X_train,(X_train.shape[0],X_train.shape[1], 1))"
      ],
      "metadata": {
        "id": "YQ5YD7nNO6fv"
      },
      "execution_count": 10,
      "outputs": []
    },
    {
      "cell_type": "markdown",
      "source": [
        "### Building the RNN"
      ],
      "metadata": {
        "id": "Nzt6zAGMPHly"
      }
    },
    {
      "cell_type": "code",
      "source": [
        "from keras.models import Sequential # Sequential Model\n",
        "from keras.layers import Dense\n",
        "from keras.layers import LSTM\n",
        "from keras.layers import Dropout #to avoid overfitting"
      ],
      "metadata": {
        "id": "83hc-s5KPK_n"
      },
      "execution_count": 11,
      "outputs": []
    },
    {
      "cell_type": "code",
      "source": [
        "# since predicting a continuous value, dealing with continuous values\n",
        "regressor = Sequential() \n",
        "    \n",
        "#adding first LSTM and dropout to avoid overfitting\n",
        "# since we are going to add another LSTM layer\n",
        "regressor.add(LSTM(units = 50, return_sequences=True, input_shape = (X_train.shape[1], 1))) \n",
        "regressor.add(Dropout(0.2))\n",
        "    \n",
        "#adding second LSTM and dropout to avoid overfitting\n",
        "regressor.add(LSTM(units = 50, return_sequences=True)) \n",
        "regressor.add(Dropout(0.2))\n",
        "     \n",
        "#adding third LSTM and dropout to avoid overfitting\n",
        "regressor.add(LSTM(units = 50, return_sequences=True)) \n",
        "regressor.add(Dropout(0.2))\n",
        "     \n",
        "#adding fourth LSTM and dropout to avoid overfitting\n",
        "regressor.add(LSTM(units = 50)) \n",
        "regressor.add(Dropout(0.2))\n",
        "    \n",
        "#adding the output layer\n",
        "regressor.add(Dense(units=1))"
      ],
      "metadata": {
        "id": "ZT0lxCLpRjlJ"
      },
      "execution_count": 12,
      "outputs": []
    },
    {
      "cell_type": "code",
      "source": [
        "#compiling the RNN\n",
        "\n",
        "regressor.compile(optimizer='adam', loss = 'mean_squared_error')   "
      ],
      "metadata": {
        "id": "cHDIbCiDSDI0"
      },
      "execution_count": 13,
      "outputs": []
    },
    {
      "cell_type": "code",
      "source": [
        "#Fitting RNN\n",
        "#100 for much higher accuracy\n",
        "\n",
        "regressor.fit(X_train, y_train, epochs = 100, batch_size = 32)"
      ],
      "metadata": {
        "colab": {
          "base_uri": "https://localhost:8080/"
        },
        "id": "2xL4NwRuS3vd",
        "outputId": "282011f9-808a-45f9-adb7-180be253231f"
      },
      "execution_count": 14,
      "outputs": [
        {
          "output_type": "stream",
          "name": "stdout",
          "text": [
            "Epoch 1/100\n",
            "38/38 [==============================] - 12s 122ms/step - loss: 0.0415\n",
            "Epoch 2/100\n",
            "38/38 [==============================] - 5s 123ms/step - loss: 0.0057\n",
            "Epoch 3/100\n",
            "38/38 [==============================] - 6s 148ms/step - loss: 0.0054\n",
            "Epoch 4/100\n",
            "38/38 [==============================] - 5s 121ms/step - loss: 0.0048\n",
            "Epoch 5/100\n",
            "38/38 [==============================] - 5s 143ms/step - loss: 0.0051\n",
            "Epoch 6/100\n",
            "38/38 [==============================] - 5s 123ms/step - loss: 0.0050\n",
            "Epoch 7/100\n",
            "38/38 [==============================] - 5s 122ms/step - loss: 0.0041\n",
            "Epoch 8/100\n",
            "38/38 [==============================] - 5s 122ms/step - loss: 0.0052\n",
            "Epoch 9/100\n",
            "38/38 [==============================] - 5s 121ms/step - loss: 0.0043\n",
            "Epoch 10/100\n",
            "38/38 [==============================] - 5s 122ms/step - loss: 0.0041\n",
            "Epoch 11/100\n",
            "38/38 [==============================] - 5s 121ms/step - loss: 0.0047\n",
            "Epoch 12/100\n",
            "38/38 [==============================] - 5s 121ms/step - loss: 0.0046\n",
            "Epoch 13/100\n",
            "38/38 [==============================] - 5s 121ms/step - loss: 0.0037\n",
            "Epoch 14/100\n",
            "38/38 [==============================] - 5s 122ms/step - loss: 0.0039\n",
            "Epoch 15/100\n",
            "38/38 [==============================] - 5s 133ms/step - loss: 0.0037\n",
            "Epoch 16/100\n",
            "38/38 [==============================] - 5s 133ms/step - loss: 0.0038\n",
            "Epoch 17/100\n",
            "38/38 [==============================] - 5s 124ms/step - loss: 0.0034\n",
            "Epoch 18/100\n",
            "38/38 [==============================] - 7s 185ms/step - loss: 0.0039\n",
            "Epoch 19/100\n",
            "38/38 [==============================] - 9s 245ms/step - loss: 0.0039\n",
            "Epoch 20/100\n",
            "38/38 [==============================] - 6s 158ms/step - loss: 0.0032\n",
            "Epoch 21/100\n",
            "38/38 [==============================] - 5s 123ms/step - loss: 0.0034\n",
            "Epoch 22/100\n",
            "38/38 [==============================] - 5s 122ms/step - loss: 0.0035\n",
            "Epoch 23/100\n",
            "38/38 [==============================] - 5s 124ms/step - loss: 0.0034\n",
            "Epoch 24/100\n",
            "38/38 [==============================] - 5s 123ms/step - loss: 0.0032\n",
            "Epoch 25/100\n",
            "38/38 [==============================] - 5s 123ms/step - loss: 0.0033\n",
            "Epoch 26/100\n",
            "38/38 [==============================] - 5s 123ms/step - loss: 0.0029\n",
            "Epoch 27/100\n",
            "38/38 [==============================] - 5s 124ms/step - loss: 0.0033\n",
            "Epoch 28/100\n",
            "38/38 [==============================] - 5s 120ms/step - loss: 0.0029\n",
            "Epoch 29/100\n",
            "38/38 [==============================] - 5s 123ms/step - loss: 0.0028\n",
            "Epoch 30/100\n",
            "38/38 [==============================] - 5s 122ms/step - loss: 0.0032\n",
            "Epoch 31/100\n",
            "38/38 [==============================] - 5s 122ms/step - loss: 0.0033\n",
            "Epoch 32/100\n",
            "38/38 [==============================] - 5s 122ms/step - loss: 0.0031\n",
            "Epoch 33/100\n",
            "38/38 [==============================] - 5s 122ms/step - loss: 0.0027\n",
            "Epoch 34/100\n",
            "38/38 [==============================] - 5s 123ms/step - loss: 0.0033\n",
            "Epoch 35/100\n",
            "38/38 [==============================] - 5s 121ms/step - loss: 0.0026\n",
            "Epoch 36/100\n",
            "38/38 [==============================] - 5s 122ms/step - loss: 0.0028\n",
            "Epoch 37/100\n",
            "38/38 [==============================] - 5s 144ms/step - loss: 0.0027\n",
            "Epoch 38/100\n",
            "38/38 [==============================] - 5s 122ms/step - loss: 0.0026\n",
            "Epoch 39/100\n",
            "38/38 [==============================] - 5s 122ms/step - loss: 0.0028\n",
            "Epoch 40/100\n",
            "38/38 [==============================] - 5s 133ms/step - loss: 0.0026\n",
            "Epoch 41/100\n",
            "38/38 [==============================] - 5s 123ms/step - loss: 0.0029\n",
            "Epoch 42/100\n",
            "38/38 [==============================] - 5s 124ms/step - loss: 0.0027\n",
            "Epoch 43/100\n",
            "38/38 [==============================] - 5s 120ms/step - loss: 0.0025\n",
            "Epoch 44/100\n",
            "38/38 [==============================] - 5s 123ms/step - loss: 0.0025\n",
            "Epoch 45/100\n",
            "38/38 [==============================] - 5s 123ms/step - loss: 0.0027\n",
            "Epoch 46/100\n",
            "38/38 [==============================] - 5s 123ms/step - loss: 0.0026\n",
            "Epoch 47/100\n",
            "38/38 [==============================] - 5s 123ms/step - loss: 0.0024\n",
            "Epoch 48/100\n",
            "38/38 [==============================] - 5s 124ms/step - loss: 0.0024\n",
            "Epoch 49/100\n",
            "38/38 [==============================] - 5s 122ms/step - loss: 0.0021\n",
            "Epoch 50/100\n",
            "38/38 [==============================] - 5s 124ms/step - loss: 0.0022\n",
            "Epoch 51/100\n",
            "38/38 [==============================] - 5s 121ms/step - loss: 0.0023\n",
            "Epoch 52/100\n",
            "38/38 [==============================] - 5s 144ms/step - loss: 0.0020\n",
            "Epoch 53/100\n",
            "38/38 [==============================] - 5s 122ms/step - loss: 0.0023\n",
            "Epoch 54/100\n",
            "38/38 [==============================] - 5s 122ms/step - loss: 0.0024\n",
            "Epoch 55/100\n",
            "38/38 [==============================] - 5s 122ms/step - loss: 0.0023\n",
            "Epoch 56/100\n",
            "38/38 [==============================] - 5s 121ms/step - loss: 0.0022\n",
            "Epoch 57/100\n",
            "38/38 [==============================] - 5s 123ms/step - loss: 0.0022\n",
            "Epoch 58/100\n",
            "38/38 [==============================] - 5s 122ms/step - loss: 0.0021\n",
            "Epoch 59/100\n",
            "38/38 [==============================] - 7s 184ms/step - loss: 0.0023\n",
            "Epoch 60/100\n",
            "38/38 [==============================] - 9s 238ms/step - loss: 0.0021\n",
            "Epoch 61/100\n",
            "38/38 [==============================] - 9s 242ms/step - loss: 0.0022\n",
            "Epoch 62/100\n",
            "38/38 [==============================] - 5s 123ms/step - loss: 0.0018\n",
            "Epoch 63/100\n",
            "38/38 [==============================] - 5s 123ms/step - loss: 0.0021\n",
            "Epoch 64/100\n",
            "38/38 [==============================] - 5s 121ms/step - loss: 0.0021\n",
            "Epoch 65/100\n",
            "38/38 [==============================] - 5s 121ms/step - loss: 0.0020\n",
            "Epoch 66/100\n",
            "38/38 [==============================] - 5s 123ms/step - loss: 0.0021\n",
            "Epoch 67/100\n",
            "38/38 [==============================] - 5s 123ms/step - loss: 0.0020\n",
            "Epoch 68/100\n",
            "38/38 [==============================] - 5s 121ms/step - loss: 0.0020\n",
            "Epoch 69/100\n",
            "38/38 [==============================] - 5s 124ms/step - loss: 0.0018\n",
            "Epoch 70/100\n",
            "38/38 [==============================] - 5s 123ms/step - loss: 0.0019\n",
            "Epoch 71/100\n",
            "38/38 [==============================] - 5s 122ms/step - loss: 0.0021\n",
            "Epoch 72/100\n",
            "38/38 [==============================] - 5s 121ms/step - loss: 0.0019\n",
            "Epoch 73/100\n",
            "38/38 [==============================] - 5s 122ms/step - loss: 0.0017\n",
            "Epoch 74/100\n",
            "38/38 [==============================] - 5s 122ms/step - loss: 0.0019\n",
            "Epoch 75/100\n",
            "38/38 [==============================] - 5s 120ms/step - loss: 0.0019\n",
            "Epoch 76/100\n",
            "38/38 [==============================] - 5s 121ms/step - loss: 0.0016\n",
            "Epoch 77/100\n",
            "38/38 [==============================] - 5s 121ms/step - loss: 0.0019\n",
            "Epoch 78/100\n",
            "38/38 [==============================] - 5s 122ms/step - loss: 0.0017\n",
            "Epoch 79/100\n",
            "38/38 [==============================] - 5s 121ms/step - loss: 0.0018\n",
            "Epoch 80/100\n",
            "38/38 [==============================] - 5s 122ms/step - loss: 0.0018\n",
            "Epoch 81/100\n",
            "38/38 [==============================] - 5s 123ms/step - loss: 0.0015\n",
            "Epoch 82/100\n",
            "38/38 [==============================] - 5s 123ms/step - loss: 0.0015\n",
            "Epoch 83/100\n",
            "38/38 [==============================] - 5s 122ms/step - loss: 0.0015\n",
            "Epoch 84/100\n",
            "38/38 [==============================] - 5s 122ms/step - loss: 0.0017\n",
            "Epoch 85/100\n",
            "38/38 [==============================] - 5s 124ms/step - loss: 0.0017\n",
            "Epoch 86/100\n",
            "38/38 [==============================] - 5s 122ms/step - loss: 0.0017\n",
            "Epoch 87/100\n",
            "38/38 [==============================] - 5s 122ms/step - loss: 0.0016\n",
            "Epoch 88/100\n",
            "38/38 [==============================] - 5s 122ms/step - loss: 0.0017\n",
            "Epoch 89/100\n",
            "38/38 [==============================] - 5s 123ms/step - loss: 0.0017\n",
            "Epoch 90/100\n",
            "38/38 [==============================] - 5s 122ms/step - loss: 0.0015\n",
            "Epoch 91/100\n",
            "38/38 [==============================] - 5s 124ms/step - loss: 0.0016\n",
            "Epoch 92/100\n",
            "38/38 [==============================] - 5s 123ms/step - loss: 0.0015\n",
            "Epoch 93/100\n",
            "38/38 [==============================] - 5s 133ms/step - loss: 0.0015\n",
            "Epoch 94/100\n",
            "38/38 [==============================] - 9s 239ms/step - loss: 0.0014\n",
            "Epoch 95/100\n",
            "38/38 [==============================] - 7s 188ms/step - loss: 0.0013\n",
            "Epoch 96/100\n",
            "38/38 [==============================] - 8s 213ms/step - loss: 0.0016\n",
            "Epoch 97/100\n",
            "38/38 [==============================] - 6s 166ms/step - loss: 0.0014\n",
            "Epoch 98/100\n",
            "38/38 [==============================] - 7s 195ms/step - loss: 0.0014\n",
            "Epoch 99/100\n",
            "38/38 [==============================] - 6s 168ms/step - loss: 0.0014\n",
            "Epoch 100/100\n",
            "38/38 [==============================] - 8s 205ms/step - loss: 0.0014\n"
          ]
        },
        {
          "output_type": "execute_result",
          "data": {
            "text/plain": [
              "<keras.callbacks.History at 0x7ff11ebfef50>"
            ]
          },
          "metadata": {},
          "execution_count": 14
        }
      ]
    },
    {
      "cell_type": "markdown",
      "source": [
        "### Making the predictions and viewing results"
      ],
      "metadata": {
        "id": "uc7eD3O9S_lB"
      }
    },
    {
      "cell_type": "code",
      "source": [
        "#Getting real stock price of 2017\n",
        "\n",
        "dataset_test= pd.read_csv('/content/drive/MyDrive/Colab Notebooks/Dataset/Google_Stock_Price_Test.csv')\n",
        "real_stock_price = dataset_test.iloc[:,1:2].values"
      ],
      "metadata": {
        "id": "IM82dwYPTBeu"
      },
      "execution_count": 15,
      "outputs": []
    },
    {
      "cell_type": "code",
      "source": [
        "#Getting the predicted stock price of 2017\n",
        "\n",
        "dataset_total = pd.concat((dataset_train['Open'],dataset_test['Open']), axis=0)\n",
        "\n",
        "inputs = dataset_total[ len(dataset_total) - len(dataset_test) -60:].values\n",
        "\n",
        "inputs = inputs.reshape(-1,1)\n",
        "\n",
        "inputs = sc.transform(inputs)"
      ],
      "metadata": {
        "id": "fNIEOngyUCeb"
      },
      "execution_count": 16,
      "outputs": []
    },
    {
      "cell_type": "code",
      "source": [
        "X_test = []\n",
        "\n",
        "for i in range(60, 80):\n",
        "    X_test.append(inputs[i-60:i,0])\n",
        "\n",
        "X_test= np.array(X_test)\n",
        "X_test = np.reshape(X_test,(X_test.shape[0],X_test.shape[1], 1))\n",
        "\n",
        "predicted_stock_price = regressor.predict(X_test)\n",
        "predicted_stock_price = sc.inverse_transform(predicted_stock_price)"
      ],
      "metadata": {
        "id": "eb-2LcSxVBC7"
      },
      "execution_count": 22,
      "outputs": []
    },
    {
      "cell_type": "markdown",
      "source": [
        "### Visualizing the Results"
      ],
      "metadata": {
        "id": "SVPcdnJkVVOK"
      }
    },
    {
      "cell_type": "code",
      "source": [
        "plt.plot(real_stock_price,color='red', label='Real Google Stock Price for Jan 2017')\n",
        "plt.plot(predicted_stock_price,color='blue', label='Predicted Google Stock Price for Jan 2017')\n",
        "plt.title('Google Stock Price Prediction')\n",
        "plt.xlabel('Time')\n",
        "plt.ylabel('Google Stock Price')\n",
        "plt.legend()\n",
        "plt.show()"
      ],
      "metadata": {
        "colab": {
          "base_uri": "https://localhost:8080/",
          "height": 295
        },
        "id": "PKIEzxj9VQ_c",
        "outputId": "0c4deb65-d765-4bf7-bef8-2bf6dc7cf9ca"
      },
      "execution_count": 23,
      "outputs": [
        {
          "output_type": "display_data",
          "data": {
            "image/png": "[encoded data removed]",
            "text/plain": [
              "<Figure size 432x288 with 1 Axes>"
            ]
          },
          "metadata": {
            "needs_background": "light"
          }
        }
      ]
    }
  ]
}